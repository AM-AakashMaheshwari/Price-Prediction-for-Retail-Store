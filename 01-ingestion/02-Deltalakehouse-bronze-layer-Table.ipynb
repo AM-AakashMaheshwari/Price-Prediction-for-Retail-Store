{
 "cells": [
  {
   "cell_type": "code",
   "execution_count": 0,
   "metadata": {
    "application/vnd.databricks.v1+cell": {
     "cellMetadata": {
      "byteLimit": 2048000,
      "implicitDf": true,
      "rowLimit": 10000
     },
     "inputWidgets": {},
     "nuid": "3c6d15b4-9d9c-463d-8bf5-013eb5678bad",
     "showTitle": false,
     "tableResultSettingsMap": {},
     "title": ""
    }
   },
   "outputs": [],
   "source": [
    "%sql\n",
    "USE CATALOG `price-prediction-analytics`;\n",
    "\n",
    "CREATE SCHEMA IF NOT EXISTS bronze;\n",
    "DROP TABLE IF EXISTS bronze.daily_pricing;\n",
    "CREATE TABLE bronze.daily_pricing(\n",
    "  DATE_OF_PRICING String,\n",
    "  ROW_ID String,\n",
    "  STATE_NAME String,\n",
    "  MARKET_NAME String,\n",
    "  PRODUCTGROUP_NAME String,\n",
    "  PRODUCT_NAME String,\n",
    "  VARIETY String,\n",
    "  ORIGIN String,\n",
    "  ARRIVAL_IN_TONNES String,\n",
    "  MINIMUM_PRICE String,\n",
    "  MAXIMUM_PRICE String,\n",
    "  MODAL_PRICE String,\n",
    "  source_file_load_date String\n",
    ")\n",
    "Using CSV\n",
    "Options (\n",
    "  'delimited' = ','\n",
    "  'header' = 'true'\n",
    ")\n",
    "Location 'abfss://bronze@pricepredictionadls.dfs.core.windows.net/daily-pricing'"
   ]
  },
  {
   "cell_type": "code",
   "execution_count": 0,
   "metadata": {
    "application/vnd.databricks.v1+cell": {
     "cellMetadata": {
      "byteLimit": 2048000,
      "implicitDf": true,
      "rowLimit": 10000
     },
     "inputWidgets": {},
     "nuid": "8acd44d9-7fa7-448f-a4f6-cb719ccd1bda",
     "showTitle": false,
     "tableResultSettingsMap": {},
     "title": ""
    }
   },
   "outputs": [],
   "source": [
    "%sql\n",
    "select * from `price-prediction-analytics`.bronze.daily_pricing"
   ]
  },
  {
   "cell_type": "code",
   "execution_count": 0,
   "metadata": {
    "application/vnd.databricks.v1+cell": {
     "cellMetadata": {},
     "inputWidgets": {},
     "nuid": "f67cc6a3-40f5-4537-b51c-065f5c2c6b05",
     "showTitle": false,
     "tableResultSettingsMap": {},
     "title": ""
    }
   },
   "outputs": [],
   "source": []
  }
 ],
 "metadata": {
  "application/vnd.databricks.v1+notebook": {
   "computePreferences": null,
   "dashboards": [],
   "environmentMetadata": {
    "base_environment": "",
    "environment_version": "2"
   },
   "inputWidgetPreferences": null,
   "language": "python",
   "notebookMetadata": {
    "mostRecentlyExecutedCommandWithImplicitDF": {
     "commandId": 5404209471708430,
     "dataframes": [
      "_sqldf"
     ]
    },
    "pythonIndentUnit": 4
   },
   "notebookName": "02-Deltalakehouse-bronze-layer-Table",
   "widgets": {}
  },
  "language_info": {
   "name": "python"
  }
 },
 "nbformat": 4,
 "nbformat_minor": 0
}
