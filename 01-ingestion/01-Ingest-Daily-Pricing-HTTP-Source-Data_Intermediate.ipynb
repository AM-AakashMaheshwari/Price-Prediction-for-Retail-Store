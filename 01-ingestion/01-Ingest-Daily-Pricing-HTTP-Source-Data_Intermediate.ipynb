{
 "cells": [
  {
   "cell_type": "code",
   "execution_count": 0,
   "metadata": {
    "application/vnd.databricks.v1+cell": {
     "cellMetadata": {
      "byteLimit": 2048000,
      "rowLimit": 10000
     },
     "inputWidgets": {},
     "nuid": "7bf71f9b-9b9f-4dbb-98a8-149d2090dc6c",
     "showTitle": false,
     "tableResultSettingsMap": {},
     "title": ""
    }
   },
   "outputs": [],
   "source": [
    "processName = dbutils.widgets.get('prm_processName')\n",
    "\n",
    "nextSourceFileDate = f\"\"\"SELECT MAX(PROCESSED_FILE_TABLE_DATE)+1 as NEXT_SOURCE_FILE_DATE FROM processrunlogs.deltalakehouse_process_runs\n",
    "where PROCESS_NAME = '{processName}' and PROCESS_STATUS = 'Completed' \"\"\"\n",
    "\n",
    "print(nextSourceFileDate)\n",
    "nextSourceFileDateDF = spark.sql(nextSourceFileDate)\n",
    "\n",
    "print(nextSourceFileDateDF.select('NEXT_SOURCE_FILE_DATE').collect()[0])"
   ]
  },
  {
   "cell_type": "code",
   "execution_count": 0,
   "metadata": {
    "application/vnd.databricks.v1+cell": {
     "cellMetadata": {
      "byteLimit": 2048000,
      "rowLimit": 10000
     },
     "inputWidgets": {},
     "nuid": "1250ee0f-fc4d-4bbc-b1ef-4f217ddc8d44",
     "showTitle": false,
     "tableResultSettingsMap": {},
     "title": ""
    }
   },
   "outputs": [],
   "source": [
    "#Source URL for the data\n",
    "sourceFileURL = 'https://retailpricing.blob.core.windows.net/labs/lab1/PW_MW_DR_01012023.csv'\n",
    "bronzelayerCSVFilePath = 'abfss://working-labs@pricepredictionadls.dfs.core.windows.net/bronze/daily-pricing/csv'"
   ]
  },
  {
   "cell_type": "code",
   "execution_count": 0,
   "metadata": {
    "application/vnd.databricks.v1+cell": {
     "cellMetadata": {},
     "inputWidgets": {},
     "nuid": "213b34f8-75d0-419d-abce-7fd4277f156f",
     "showTitle": false,
     "tableResultSettingsMap": {},
     "title": ""
    }
   },
   "outputs": [],
   "source": [
    "# dailyPricingSourceBaseURL = 'https://retailpricing.blob.core.windows.net/'\n",
    "# dailyPricingSourceFolder = 'daily-pricing/'\n",
    "# daiilyPricingSourceFileDate = datetime.strptime(str(nextSourceFileDateDF.select('NEXT_SOURCE_FILE_DATE').collect()[0]['NEXT_SOURCE_FILE_DATE']),'%Y-%m-%d').strftime('%m%d%Y')\n",
    "# daiilyPricingSourceFileName = f\"PW_MW_DR_{daiilyPricingSourceFileDate}.csv\"\n",
    "\n",
    "\n",
    "# daiilyPricingSinkLayerName = 'bronze'\n",
    "# daiilyPricingSinkStorageAccountName = 'pricepredictionadls'\n",
    "# daiilyPricingSinkFolderName =  'daily-pricing'"
   ]
  },
  {
   "cell_type": "code",
   "execution_count": 0,
   "metadata": {
    "application/vnd.databricks.v1+cell": {
     "cellMetadata": {
      "batchId": -8665305355265904,
      "byteLimit": 2048000,
      "rowLimit": 10000
     },
     "inputWidgets": {},
     "nuid": "49199f6b-2a7b-4c02-bc5f-7419133d59f6",
     "showTitle": false,
     "tableResultSettingsMap": {},
     "title": ""
    }
   },
   "outputs": [],
   "source": [
    "from datetime import datetime\n",
    "dbutils.widgets.text('prm_dailyPricingSourceFileDate','')\n",
    "print(datetime.strptime(dbutils.widgets.get('prm_dailyPricingSourceFileDate'),'%Y-%m-%d').strftime('%d%m%Y'))"
   ]
  },
  {
   "cell_type": "code",
   "execution_count": 0,
   "metadata": {
    "application/vnd.databricks.v1+cell": {
     "cellMetadata": {
      "batchId": -8665305355265904,
      "byteLimit": 2048000,
      "rowLimit": 10000
     },
     "inputWidgets": {},
     "nuid": "daad69f6-33b2-4954-a7a4-f6acfc26b926",
     "showTitle": false,
     "tableResultSettingsMap": {},
     "title": ""
    }
   },
   "outputs": [],
   "source": [
    "#modularize the URL of Source and sink path\n",
    "dailyPricingSourceBaseURL = 'https://retailpricing.blob.core.windows.net/'\n",
    "dailyPricingSourceFolder = 'daily-pricing/'\n",
    "#dailyPricingSourceFileDate=dbutils.widgets.get('prm_dailyPricingSourceFileDate')\n",
    "daiilyPricingSourceFileDate = datetime.strptime(str(nextSourceFileDateDF.select('NEXT_SOURCE_FILE_DATE').collect()[0]['NEXT_SOURCE_FILE_DATE']),'%Y-%m-%d').strftime('%m%d%Y')\n",
    "daiilyPricingSourceFileName = f'PW_MW_DR_{dailyPricingSourceFileDate}.csv'\n",
    "\n",
    "\n",
    "\n",
    "daiilyPricingSinkLayerName = 'bronze'\n",
    "daiilyPricingSinkStorageAccountName = 'pricepredictionadls'\n",
    "daiilyPricingSinkFolderName =  'daily-pricing'"
   ]
  },
  {
   "cell_type": "code",
   "execution_count": 0,
   "metadata": {
    "application/vnd.databricks.v1+cell": {
     "cellMetadata": {
      "byteLimit": 2048000,
      "rowLimit": 10000
     },
     "inputWidgets": {},
     "nuid": "60fbeed8-6d86-48bb-97c8-28b0a9f4bcf9",
     "showTitle": false,
     "tableResultSettingsMap": {},
     "title": ""
    }
   },
   "outputs": [],
   "source": [
    "#Variable for source path\n",
    "dailyPricingSourceURL = dailyPricingSourceBaseURL + dailyPricingSourceFolder + daiilyPricingSourceFileName\n",
    "print(dailyPricingSourceURL)"
   ]
  },
  {
   "cell_type": "code",
   "execution_count": 0,
   "metadata": {
    "application/vnd.databricks.v1+cell": {
     "cellMetadata": {
      "byteLimit": 2048000,
      "rowLimit": 10000
     },
     "inputWidgets": {},
     "nuid": "df578a4d-65ce-45f1-862c-d86356681475",
     "showTitle": false,
     "tableResultSettingsMap": {},
     "title": ""
    }
   },
   "outputs": [],
   "source": [
    "import pandas as pds"
   ]
  },
  {
   "cell_type": "code",
   "execution_count": 0,
   "metadata": {
    "application/vnd.databricks.v1+cell": {
     "cellMetadata": {
      "byteLimit": 2048000,
      "rowLimit": 10000
     },
     "inputWidgets": {},
     "nuid": "dd119b8b-e14a-4132-81b8-7f54049de908",
     "showTitle": false,
     "tableResultSettingsMap": {},
     "title": ""
    }
   },
   "outputs": [],
   "source": [
    "#read the csv file from source  in the  pandas dataframe\n",
    "dailyPricingPandasDF=pds.read_csv(dailyPricingSourceURL)\n",
    "print(dailyPricingPandasDF)"
   ]
  },
  {
   "cell_type": "code",
   "execution_count": 0,
   "metadata": {
    "application/vnd.databricks.v1+cell": {
     "cellMetadata": {
      "byteLimit": 2048000,
      "rowLimit": 10000
     },
     "inputWidgets": {},
     "nuid": "42aea255-e505-49bf-9a37-4292caa229db",
     "showTitle": false,
     "tableResultSettingsMap": {},
     "title": ""
    }
   },
   "outputs": [],
   "source": [
    "#Convert the pandas dataframe into spark dataframe\n",
    "dailyPricingSparkDF=spark.createDataFrame(dailyPricingPandasDF)"
   ]
  },
  {
   "cell_type": "code",
   "execution_count": 0,
   "metadata": {
    "application/vnd.databricks.v1+cell": {
     "cellMetadata": {
      "byteLimit": 2048000,
      "rowLimit": 10000
     },
     "inputWidgets": {},
     "nuid": "00e6b022-15d5-4985-a0e0-42f7ca81d112",
     "showTitle": false,
     "tableResultSettingsMap": {},
     "title": ""
    }
   },
   "outputs": [],
   "source": [
    "#Writing the Spark dataframe into Bronze layer\n",
    "dailyPricingSinkFolderPath=f\"abfss://{daiilyPricingSinkLayerName}@{daiilyPricingSinkStorageAccountName}.dfs.core.windows.net/\"\n",
    "print(dailyPricingSinkFolderPath)\n",
    "\n",
    "(\n",
    "    dailyPricingSparkDF.write.mode('overwrite').option(\"header\", \"true\").csv(dailyPricingSinkFolderPath)\n",
    ")"
   ]
  },
  {
   "cell_type": "code",
   "execution_count": 0,
   "metadata": {
    "application/vnd.databricks.v1+cell": {
     "cellMetadata": {
      "byteLimit": 2048000,
      "rowLimit": 10000
     },
     "inputWidgets": {},
     "nuid": "dd893720-e66c-4b0b-b485-ec10ffbca854",
     "showTitle": false,
     "tableResultSettingsMap": {},
     "title": ""
    }
   },
   "outputs": [],
   "source": [
    "dbutils.fs.ls(dailyPricingSinkFolderPath)"
   ]
  },
  {
   "cell_type": "code",
   "execution_count": 0,
   "metadata": {
    "application/vnd.databricks.v1+cell": {
     "cellMetadata": {
      "byteLimit": 2048000,
      "implicitDf": true,
      "rowLimit": 10000
     },
     "inputWidgets": {},
     "nuid": "82b0194c-e991-4591-a8da-bb1f78172c1f",
     "showTitle": false,
     "tableResultSettingsMap": {},
     "title": ""
    }
   },
   "outputs": [],
   "source": [
    "%sql\n",
    "use catalog `price-prediction-analytics`;\n",
    "\n",
    "CREATE schema if not exists processrunlogs;\n",
    "\n",
    "CREATE TABLE IF NOT EXISTS processrunlogs.DELTALAKEHOUSE_PROCESS_RUNS(\n",
    "  PROCESS_NAME STRING,\n",
    "  PROCESSED_FILE_TABLE_DATE DATE,\n",
    "  PROCESS_STATUS string\n",
    ")\n"
   ]
  },
  {
   "cell_type": "code",
   "execution_count": 0,
   "metadata": {
    "application/vnd.databricks.v1+cell": {
     "cellMetadata": {
      "byteLimit": 2048000,
      "rowLimit": 10000
     },
     "inputWidgets": {},
     "nuid": "df57c6f0-9ac3-4f32-a3e1-8b8ce4159b10",
     "showTitle": false,
     "tableResultSettingsMap": {},
     "title": ""
    }
   },
   "outputs": [],
   "source": [
    "processName= 'dailyPricingSourceIngest'\n",
    "processFileDate =  dbutils.widgets.get('prm_dailyPricingSourceFileDate')\n",
    "processStatus= 'Completed'\n",
    "\n",
    "processInsertSql=f\"\"\" INSERT INTO processrunlogs.DELTALAKEHOUSE_PROCESS_RUNS VALUES('{processName}','{processFileDate}','{processStatus}')\"\"\"\n",
    "print(processInsertSql)\n",
    "spark.sql(processInsertSql)"
   ]
  },
  {
   "cell_type": "code",
   "execution_count": 0,
   "metadata": {
    "application/vnd.databricks.v1+cell": {
     "cellMetadata": {
      "byteLimit": 2048000,
      "implicitDf": true,
      "rowLimit": 10000
     },
     "inputWidgets": {},
     "nuid": "3e3d74e4-2dd7-4113-8c26-c51d55ae9dc4",
     "showTitle": false,
     "tableResultSettingsMap": {},
     "title": ""
    }
   },
   "outputs": [],
   "source": [
    "%sql\n",
    "SELECT * FROM processrunlogs.DELTALAKEHOUSE_PROCESS_RUNS"
   ]
  },
  {
   "cell_type": "code",
   "execution_count": 0,
   "metadata": {
    "application/vnd.databricks.v1+cell": {
     "cellMetadata": {
      "byteLimit": 2048000,
      "implicitDf": true,
      "rowLimit": 10000
     },
     "inputWidgets": {},
     "nuid": "95b65d68-e857-4495-a932-768ce40d8a0a",
     "showTitle": false,
     "tableResultSettingsMap": {},
     "title": ""
    }
   },
   "outputs": [],
   "source": [
    "%sql\n",
    "SELECT MAX(PROCESSED_FILE_TABLE_DATE)+1 as NEXT_SOURCE_FILE_DATE FROM processrunlogs.deltalakehouse_process_runs\n",
    "where PROCESS_NAME = 'dailyPricingSourceIngest' and PROCESS_STATUS = 'Completed'"
   ]
  }
 ],
 "metadata": {
  "application/vnd.databricks.v1+notebook": {
   "computePreferences": null,
   "dashboards": [],
   "environmentMetadata": {
    "base_environment": "",
    "environment_version": "2"
   },
   "inputWidgetPreferences": null,
   "language": "python",
   "notebookMetadata": {
    "mostRecentlyExecutedCommandWithImplicitDF": {
     "commandId": 8665305355265914,
     "dataframes": [
      "_sqldf"
     ]
    },
    "pythonIndentUnit": 4
   },
   "notebookName": "01-Ingest-Daily-Pricing-HTTP-Source-Data_Intermediate",
   "widgets": {
    "prm_dailyPricingSourceFileDate": {
     "currentValue": "2023-01-01",
     "nuid": "001ca060-d52c-475a-9bc7-75a503c6c230",
     "typedWidgetInfo": {
      "autoCreated": false,
      "defaultValue": "",
      "label": null,
      "name": "prm_dailyPricingSourceFileDate",
      "options": {
       "widgetDisplayType": "Text",
       "validationRegex": null
      },
      "parameterDataType": "String"
     },
     "widgetInfo": {
      "widgetType": "text",
      "defaultValue": "",
      "label": null,
      "name": "prm_dailyPricingSourceFileDate",
      "options": {
       "widgetType": "text",
       "autoCreated": null,
       "validationRegex": null
      }
     }
    },
    "prm_processName": {
     "currentValue": "dailyPricingSourceIngest",
     "nuid": "83d0f27a-8208-42a1-bb88-ea01b594a2f4",
     "typedWidgetInfo": {
      "autoCreated": false,
      "defaultValue": "",
      "label": "",
      "name": "prm_processName",
      "options": {
       "widgetDisplayType": "Text",
       "validationRegex": null
      },
      "parameterDataType": "String"
     },
     "widgetInfo": {
      "widgetType": "text",
      "defaultValue": "",
      "label": "",
      "name": "prm_processName",
      "options": {
       "widgetType": "text",
       "autoCreated": false,
       "validationRegex": null
      }
     }
    }
   }
  },
  "language_info": {
   "name": "python"
  }
 },
 "nbformat": 4,
 "nbformat_minor": 0
}
