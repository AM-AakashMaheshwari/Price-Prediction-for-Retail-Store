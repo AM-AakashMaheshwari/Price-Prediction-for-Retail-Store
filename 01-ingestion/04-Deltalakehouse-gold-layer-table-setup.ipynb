{
 "cells": [
  {
   "cell_type": "code",
   "execution_count": 0,
   "metadata": {
    "application/vnd.databricks.v1+cell": {
     "cellMetadata": {
      "byteLimit": 2048000,
      "rowLimit": 10000
     },
     "inputWidgets": {},
     "nuid": "5dfcc026-8123-4b74-929d-cd939a112f26",
     "showTitle": false,
     "tableResultSettingsMap": {},
     "title": ""
    }
   },
   "outputs": [],
   "source": [
    "USE CATALOG `price-prediction-analytics`;\n",
    "\n",
    "CREATE SCHEMA IF NOT EXISTS gold;\n",
    "\n",
    "USE SCHEMA gold;\n",
    "\n",
    "DROP TABLE IF  EXISTS REPORTING_DIM_DATE_GOLD; \n",
    "\n",
    "CREATE TABLE IF NOT EXISTS REPORTING_DIM_DATE_GOLD (\n",
    "CALENDAR_DATE DATE,\n",
    "DATE_ID BIGINT,\n",
    "lakehouse_inserted_date TIMESTAMP,\n",
    "lakehouse_updated_date TIMESTAMP\n",
    ");\n",
    "\n",
    "DROP TABLE IF  EXISTS REPORTING_DIM_STATE_GOLD; \n",
    "\n",
    "CREATE TABLE IF NOT EXISTS REPORTING_DIM_STATE_GOLD (\n",
    "STATE_NAME STRING,\n",
    "STATE_ID BIGINT,\n",
    "lakehouse_inserted_date TIMESTAMP,\n",
    "lakehouse_updated_date TIMESTAMP\n",
    ");\n",
    "\n",
    "DROP TABLE IF  EXISTS REPORTING_DIM_MARKET_GOLD; \n",
    "\n",
    "CREATE TABLE IF NOT EXISTS REPORTING_DIM_MARKET_GOLD (\n",
    "MARKET_NAME STRING,\n",
    "MARKET_ID BIGINT,\n",
    "lakehouse_inserted_date TIMESTAMP,\n",
    "lakehouse_updated_date TIMESTAMP\n",
    ");\n",
    "\n",
    "DROP TABLE IF  EXISTS REPORTING_DIM_PRODUCT_GOLD; \n",
    "\n",
    "CREATE TABLE IF NOT EXISTS REPORTING_DIM_PRODUCT_GOLD (\n",
    "PRODUCTGROUP_NAME STRING,\n",
    "PRODUCT_NAME STRING,\n",
    "PRODUCT_ID BIGINT,\n",
    "lakehouse_inserted_date TIMESTAMP,\n",
    "lakehouse_updated_date TIMESTAMP\n",
    ");\n",
    "\n",
    "DROP TABLE IF  EXISTS REPORTING_DIM_VARIETY_GOLD; \n",
    "\n",
    "CREATE TABLE IF NOT EXISTS REPORTING_DIM_VARIETY_GOLD (\n",
    "VARIETY STRING,\n",
    "VARIETY_ID BIGINT,\n",
    "lakehouse_inserted_date TIMESTAMP,\n",
    "lakehouse_updated_date TIMESTAMP\n",
    ");\n",
    "\n",
    "DROP TABLE IF  EXISTS REPORTING_FACT_DAILY_PRICING_GOLD; \n",
    "\n",
    "CREATE TABLE IF NOT EXISTS REPORTING_FACT_DAILY_PRICING_GOLD (\n",
    "DATE_ID BIGINT,\n",
    "STATE_ID BIGINT,\n",
    "MARKET_ID BIGINT,\n",
    "PRODUCT_ID BIGINT,\n",
    "VARIETY_ID BIGINT,\n",
    "ROW_ID BIGINT,\n",
    "ARRIVAL_IN_TONNES DECIMAL(18,2),\n",
    "MINIMUM_PRICE DECIMAL(36,2),\n",
    "MAXIMUM_PRICE DECIMAL(36,2),\n",
    "MODAL_PRICE DECIMAL(36,2),\n",
    "lakehouse_inserted_date TIMESTAMP,\n",
    "lakehouse_updated_date TIMESTAMP\n",
    ");\n",
    "\n",
    "\n"
   ]
  }
 ],
 "metadata": {
  "application/vnd.databricks.v1+notebook": {
   "computePreferences": null,
   "dashboards": [],
   "environmentMetadata": {
    "base_environment": "",
    "environment_version": "2"
   },
   "inputWidgetPreferences": null,
   "language": "sql",
   "notebookMetadata": {
    "pythonIndentUnit": 4
   },
   "notebookName": "04-Deltalakehouse-gold-layer-table-setup",
   "widgets": {}
  },
  "language_info": {
   "name": "sql"
  }
 },
 "nbformat": 4,
 "nbformat_minor": 0
}
