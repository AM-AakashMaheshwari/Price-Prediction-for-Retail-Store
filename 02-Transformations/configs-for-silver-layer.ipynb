{
 "cells": [
  {
   "cell_type": "code",
   "execution_count": 0,
   "metadata": {
    "application/vnd.databricks.v1+cell": {
     "cellMetadata": {
      "byteLimit": 2048000,
      "rowLimit": 10000
     },
     "inputWidgets": {},
     "nuid": "f01a7e13-f0cb-4d2f-b634-9a901fa8911d",
     "showTitle": false,
     "tableResultSettingsMap": {},
     "title": ""
    }
   },
   "outputs": [],
   "source": [
    "USE CATALOG `price-prediction-analytics`;\n",
    "\n",
    "CREATE SCHEMA IF NOT EXISTS silver;\n",
    "DROP TABLE IF EXISTS silver.daily_pricing;\n",
    "CREATE TABLE IF NOT EXISTS silver.daily_pricing (\n",
    "DATE_OF_PRICING DATE,\n",
    "ROW_ID BIGINT,\n",
    "STATE_NAME STRING,\n",
    "MARKET_NAME STRING,\n",
    "PRODUCTGROUP_NAME STRING,\n",
    "PRODUCT_NAME STRING,\n",
    "VARIETY STRING,\n",
    "ORIGIN STRING,\n",
    "ARRIVAL_IN_TONNES DECIMAL(18,2),\n",
    "MINIMUM_PRICE DECIMAL(36,2),\n",
    "MAXIMUM_PRICE DECIMAL(36,2),\n",
    "MODAL_PRICE DECIMAL(36,2),\n",
    "source_file_load_date TIMESTAMP,\n",
    "lakehouse_inserted_date TIMESTAMP,\n",
    "lakehouse_updated_data TIMESTAMP\n",
    ")"
   ]
  },
  {
   "cell_type": "code",
   "execution_count": 0,
   "metadata": {
    "application/vnd.databricks.v1+cell": {
     "cellMetadata": {
      "byteLimit": 2048000,
      "rowLimit": 10000
     },
     "inputWidgets": {},
     "nuid": "f57ab14d-2f8f-41a6-a58f-443b56a498b4",
     "showTitle": false,
     "tableResultSettingsMap": {},
     "title": ""
    }
   },
   "outputs": [],
   "source": [
    "USE CATALOG `price-prediction-analytics`;\n",
    "\n",
    "INSERT INTO silver.daily_pricing\n",
    "SELECT\n",
    "  to_date(DATE_OF_PRICING, 'MM/dd/yyyy') AS DATE_OF_PRICING,\n",
    "  cast(ROW_ID as BIGINT) AS ROW_ID,\n",
    "  STATE_NAME,\n",
    "  MARKET_NAME,\n",
    "  PRODUCTGROUP_NAME,\n",
    "  PRODUCT_NAME,\n",
    "  VARIETY,\n",
    "  ORIGIN,\n",
    "  cast(ARRIVAL_IN_TONNES as DECIMAL(18,2)) AS ARRIVAL_IN_TONNES,\n",
    "  cast(MINIMUM_PRICE as decimal(36,2)) AS MINIMUM_PRICE,\n",
    "  cast(MAXIMUM_PRICE as decimal(36,2)) AS MAXIMUM_PRICE,\n",
    "  cast(MODAL_PRICE as decimal(36,2)) AS MODAL_PRICE,\n",
    "  try_cast(source_file_load_date as timestamp) AS source_file_load_date,\n",
    "  current_timestamp() AS lakehouse_inserted_date,\n",
    "  current_timestamp() AS lakehouse_updated_data\n",
    "FROM `price-prediction-analytics`.bronze.daily_pricing\n",
    "WHERE DATE_OF_PRICING != 'DATE_OF_PRICING'  -- remove repeated headers\n",
    "  AND DATE_OF_PRICING IS NOT NULL;"
   ]
  },
  {
   "cell_type": "code",
   "execution_count": 0,
   "metadata": {
    "application/vnd.databricks.v1+cell": {
     "cellMetadata": {
      "byteLimit": 2048000,
      "rowLimit": 10000
     },
     "inputWidgets": {},
     "nuid": "09eaa035-e10b-470b-abdf-c104bc248a61",
     "showTitle": false,
     "tableResultSettingsMap": {},
     "title": ""
    }
   },
   "outputs": [],
   "source": [
    "select * from `price-prediction-analytics`.silver.daily_pricing order by DATE_OF_PRICING desc"
   ]
  },
  {
   "cell_type": "code",
   "execution_count": 0,
   "metadata": {
    "application/vnd.databricks.v1+cell": {
     "cellMetadata": {
      "byteLimit": 2048000,
      "rowLimit": 10000
     },
     "inputWidgets": {},
     "nuid": "f55bea92-f741-4d6a-a1e4-cd9c55d8838f",
     "showTitle": false,
     "tableResultSettingsMap": {},
     "title": ""
    }
   },
   "outputs": [],
   "source": [
    "Alter TABLE `price-prediction-analytics`.processrunlogs.deltalakehouse_process_runs\n",
    "ADD COLUMNS (PROCESSED_TABLE_DATETIME TIMESTAMP)"
   ]
  },
  {
   "cell_type": "code",
   "execution_count": 0,
   "metadata": {
    "application/vnd.databricks.v1+cell": {
     "cellMetadata": {
      "byteLimit": 2048000,
      "rowLimit": 10000
     },
     "inputWidgets": {},
     "nuid": "c79d3939-f1d8-40e9-9065-580824c66fbf",
     "showTitle": false,
     "tableResultSettingsMap": {},
     "title": ""
    }
   },
   "outputs": [],
   "source": [
    "INSERT INTO `price-prediction-analytics`.processrunlogs.deltalakehouse_process_runs(PROCESS_NAME,PROCESSED_TABLE_DATETIME,PROCESS_STATUS)\n",
    "SELECT 'daily_pricing', max(source_file_load_date), 'Completed' FROM `price-prediction-analytics`.silver.daily_pricing"
   ]
  },
  {
   "cell_type": "code",
   "execution_count": 0,
   "metadata": {
    "application/vnd.databricks.v1+cell": {
     "cellMetadata": {
      "byteLimit": 2048000,
      "rowLimit": 10000
     },
     "inputWidgets": {},
     "nuid": "9b667a3d-cab6-4820-8108-a553113c0eb4",
     "showTitle": false,
     "tableResultSettingsMap": {},
     "title": ""
    }
   },
   "outputs": [],
   "source": [
    "select * from `price-prediction-analytics`.processrunlogs.deltalakehouse_process_runs order by PROCESsed_table_datetime desc"
   ]
  },
  {
   "cell_type": "code",
   "execution_count": 0,
   "metadata": {
    "application/vnd.databricks.v1+cell": {
     "cellMetadata": {
      "byteLimit": 2048000,
      "rowLimit": 10000
     },
     "inputWidgets": {},
     "nuid": "5a079e28-7085-4e99-a314-b64fc495e24a",
     "showTitle": false,
     "tableResultSettingsMap": {},
     "title": ""
    }
   },
   "outputs": [],
   "source": [
    "USE CATALOG `price-prediction-analytics`;\n",
    "INSERT INTO  silver.daily_pricing\n",
    "SELECT\n",
    "to_date(DATE_OF_PRICING,'dd/MM/yyyy'),\n",
    "cast(ROW_ID as bigint) ,\n",
    "STATE_NAME,\n",
    "MARKET_NAME,\n",
    "PRODUCTGROUP_NAME,\n",
    "PRODUCT_NAME,\n",
    "VARIETY,\n",
    "ORIGIN,\n",
    "cast(ARRIVAL_IN_TONNES as decimal(18,2)),\n",
    "cast(MINIMUM_PRICE as decimal(36,2)),\n",
    "cast(MAXIMUM_PRICE as decimal(36,2)),\n",
    "cast(MODAL_PRICE as decimal(36,2)),\n",
    "try_cast(source_file_load_date as timestamp) ,\n",
    "current_timestamp(),\n",
    "current_timestamp()\n",
    "FROM `price-prediction-analytics`.bronze.daily_pricing\n",
    "WHERE source_file_load_date > (SELECT nvl(max(PROCESSED_TABLE_DATETIME),'1900-01-01') FROM processrunlogs.DELTALAKEHOUSE_PROCESS_RUNS \n",
    "WHERE process_name = 'daily_pricing_silver' AND process_status = 'Completed' )\n"
   ]
  },
  {
   "cell_type": "code",
   "execution_count": 0,
   "metadata": {
    "application/vnd.databricks.v1+cell": {
     "cellMetadata": {
      "byteLimit": 2048000,
      "rowLimit": 10000
     },
     "inputWidgets": {},
     "nuid": "3eb7ef66-0671-423e-8de7-ea85da5f0a56",
     "showTitle": false,
     "tableResultSettingsMap": {},
     "title": ""
    }
   },
   "outputs": [],
   "source": [
    "select * from `price-prediction-analytics`.silver.daily_pricing  where DATE_OF_PRICING ='2023-02-18'"
   ]
  },
  {
   "cell_type": "code",
   "execution_count": 0,
   "metadata": {
    "application/vnd.databricks.v1+cell": {
     "cellMetadata": {},
     "inputWidgets": {},
     "nuid": "7102a86b-10c8-4f06-965e-a3db5f23f960",
     "showTitle": false,
     "tableResultSettingsMap": {},
     "title": ""
    }
   },
   "outputs": [],
   "source": []
  }
 ],
 "metadata": {
  "application/vnd.databricks.v1+notebook": {
   "computePreferences": null,
   "dashboards": [],
   "environmentMetadata": {
    "base_environment": "",
    "environment_version": "2"
   },
   "inputWidgetPreferences": null,
   "language": "sql",
   "notebookMetadata": {
    "pythonIndentUnit": 4
   },
   "notebookName": "configs-for-silver-layer",
   "widgets": {}
  },
  "language_info": {
   "name": "sql"
  }
 },
 "nbformat": 4,
 "nbformat_minor": 0
}
