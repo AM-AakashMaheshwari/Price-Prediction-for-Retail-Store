{
 "cells": [
  {
   "cell_type": "code",
   "execution_count": 0,
   "metadata": {
    "application/vnd.databricks.v1+cell": {
     "cellMetadata": {
      "byteLimit": 2048000,
      "rowLimit": 10000
     },
     "inputWidgets": {},
     "nuid": "46b4532c-4b47-4c30-a36a-0c6520f69d9d",
     "showTitle": false,
     "tableResultSettingsMap": {},
     "title": ""
    }
   },
   "outputs": [],
   "source": [
    "use catalog `price-prediction-analytics`;\n",
    "\n",
    "Create or replace table silver.reporting_dim_state_Stage_1 AS\n",
    "\n",
    "select\n",
    "distinct state_name\n",
    "from silver.daily_pricing\n",
    "WHERE source_file_load_date > (SELECT nvl(max(PROCESSED_TABLE_DATETIME),'1900-01-01') FROM processrunlogs.DELTALAKEHOUSE_PROCESS_RUNS \n",
    "WHERE process_name = 'reportingDimensionTablesLoad' AND process_status = 'Completed' )"
   ]
  },
  {
   "cell_type": "code",
   "execution_count": 0,
   "metadata": {
    "application/vnd.databricks.v1+cell": {
     "cellMetadata": {
      "byteLimit": 2048000,
      "rowLimit": 10000
     },
     "inputWidgets": {},
     "nuid": "39aab3b8-6489-460f-843c-1e37ce51f1a8",
     "showTitle": false,
     "tableResultSettingsMap": {},
     "title": ""
    }
   },
   "outputs": [],
   "source": [
    "create or replace table silver.reporting_dim_state_stage_2 AS\n",
    "select \n",
    "    silverDim.state_name, \n",
    "    row_number() over (order by silverDim.state_name) AS STATE_ID,\n",
    "    current_timestamp() as created_at, \n",
    "    current_timestamp() as updated_at\n",
    "from \n",
    "    silver.reporting_dim_state_Stage_1 as silverDim\n",
    "left outer join \n",
    "    gold.reporting_dim_state_gold as goldDim\n",
    "on \n",
    "    silverDim.state_name = goldDim.state_name\n",
    "where \n",
    "    goldDim.state_name is null"
   ]
  },
  {
   "cell_type": "code",
   "execution_count": 0,
   "metadata": {
    "application/vnd.databricks.v1+cell": {
     "cellMetadata": {
      "byteLimit": 2048000,
      "rowLimit": 10000
     },
     "inputWidgets": {},
     "nuid": "50ab2a85-431d-4653-91b2-5534f3a9c106",
     "showTitle": false,
     "tableResultSettingsMap": {},
     "title": ""
    }
   },
   "outputs": [],
   "source": [
    "create or replace table `price-prediction-analytics`.silver.reporting_dim_state_stage_3 AS\n",
    "select \n",
    "silverDim.state_name, silverDim.state_id + Prev_max_SK_ID AS STATE_ID,\n",
    "current_timestamp() as lakehouse_inserted_date, \n",
    "current_timestamp() as lakehouse_updated_date\n",
    "from silver.reporting_dim_state_stage_2 silverDim\n",
    "Cross join (Select NVL(max(State_id),0) as Prev_max_SK_ID from gold.reporting_dim_state_gold) goldDim"
   ]
  },
  {
   "cell_type": "code",
   "execution_count": 0,
   "metadata": {
    "application/vnd.databricks.v1+cell": {
     "cellMetadata": {
      "byteLimit": 2048000,
      "rowLimit": 10000
     },
     "inputWidgets": {},
     "nuid": "a2e54d31-8c2f-43c9-8dd7-9f6ad53c2d18",
     "showTitle": false,
     "tableResultSettingsMap": {},
     "title": ""
    }
   },
   "outputs": [],
   "source": [
    "INSERT INTO gold.reporting_dim_state_gold\n",
    "SELECT state_name,\n",
    "state_id,\n",
    "current_timestamp(),\n",
    "current_timestamp()\n",
    "FROM silver.reporting_dim_state_stage_3"
   ]
  },
  {
   "cell_type": "code",
   "execution_count": 0,
   "metadata": {
    "application/vnd.databricks.v1+cell": {
     "cellMetadata": {
      "byteLimit": 2048000,
      "rowLimit": 10000
     },
     "inputWidgets": {},
     "nuid": "d85e293e-bd1c-4c32-9b88-c2d24587b76c",
     "showTitle": false,
     "tableResultSettingsMap": {},
     "title": ""
    }
   },
   "outputs": [],
   "source": [
    "select * from gold.reporting_dim_state_gold"
   ]
  },
  {
   "cell_type": "code",
   "execution_count": 0,
   "metadata": {
    "application/vnd.databricks.v1+cell": {
     "cellMetadata": {},
     "inputWidgets": {},
     "nuid": "c79dd9e0-7621-4372-ae0d-f1b9a085ccff",
     "showTitle": false,
     "tableResultSettingsMap": {},
     "title": ""
    }
   },
   "outputs": [],
   "source": []
  }
 ],
 "metadata": {
  "application/vnd.databricks.v1+notebook": {
   "computePreferences": null,
   "dashboards": [],
   "environmentMetadata": {
    "base_environment": "",
    "environment_version": "2"
   },
   "inputWidgetPreferences": null,
   "language": "sql",
   "notebookMetadata": {
    "pythonIndentUnit": 4
   },
   "notebookName": "03-Transform-Reporting-Dimension_Tables",
   "widgets": {}
  },
  "language_info": {
   "name": "sql"
  }
 },
 "nbformat": 4,
 "nbformat_minor": 0
}
